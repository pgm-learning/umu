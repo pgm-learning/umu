{
  "nbformat": 4,
  "nbformat_minor": 0,
  "metadata": {
    "colab": {
      "name": "Python_CoLab_indent.ipynb",
      "version": "0.3.2",
      "provenance": [],
      "collapsed_sections": [],
      "include_colab_link": true
    },
    "kernelspec": {
      "name": "python3",
      "display_name": "Python 3"
    }
  },
  "cells": [
    {
      "cell_type": "markdown",
      "metadata": {
        "id": "view-in-github",
        "colab_type": "text"
      },
      "source": [
        "<a href=\"https://colab.research.google.com/github/pgm-learning/umu/blob/master/Python_CoLab_indent.ipynb\" target=\"_parent\"><img src=\"https://colab.research.google.com/assets/colab-badge.svg\" alt=\"Open In Colab\"/></a>"
      ]
    },
    {
      "cell_type": "markdown",
      "metadata": {
        "id": "Z7nLtRcM4I3U",
        "colab_type": "text"
      },
      "source": [
        "# ■ インデント\n",
        "以下のコードはインデントがもとでエラーが発生しています。\n",
        "コードを正しく修正し、エラーを消してください。"
      ]
    },
    {
      "cell_type": "code",
      "metadata": {
        "id": "MVJG2ktxvPFf",
        "colab_type": "code",
        "outputId": "45f0594b-9dff-437e-f975-9c010517d65e",
        "colab": {
          "base_uri": "https://localhost:8080/",
          "height": 130
        }
      },
      "source": [
        "print(\"foo\")\n",
        "  print(\"bar\")"
      ],
      "execution_count": 0,
      "outputs": [
        {
          "output_type": "error",
          "ename": "IndentationError",
          "evalue": "ignored",
          "traceback": [
            "\u001b[0;36m  File \u001b[0;32m\"<ipython-input-3-630a1beb81a9>\"\u001b[0;36m, line \u001b[0;32m2\u001b[0m\n\u001b[0;31m    print(\"bar\")\u001b[0m\n\u001b[0m    ^\u001b[0m\n\u001b[0;31mIndentationError\u001b[0m\u001b[0;31m:\u001b[0m unexpected indent\n"
          ]
        }
      ]
    },
    {
      "cell_type": "code",
      "metadata": {
        "id": "N05pGrTE2QxR",
        "colab_type": "code",
        "outputId": "4d5d2c90-bd33-42ed-abce-576ddc2cb3f1",
        "colab": {
          "base_uri": "https://localhost:8080/",
          "height": 130
        }
      },
      "source": [
        "spam = 1\n",
        "if spam == 1:\n",
        "print(\"spam = 1\")"
      ],
      "execution_count": 0,
      "outputs": [
        {
          "output_type": "error",
          "ename": "IndentationError",
          "evalue": "ignored",
          "traceback": [
            "\u001b[0;36m  File \u001b[0;32m\"<ipython-input-4-379420ced172>\"\u001b[0;36m, line \u001b[0;32m3\u001b[0m\n\u001b[0;31m    print(\"spam = 1\")\u001b[0m\n\u001b[0m        ^\u001b[0m\n\u001b[0;31mIndentationError\u001b[0m\u001b[0;31m:\u001b[0m expected an indented block\n"
          ]
        }
      ]
    },
    {
      "cell_type": "code",
      "metadata": {
        "id": "zGWCmrr62iny",
        "colab_type": "code",
        "outputId": "2784a6bd-1d8c-42a4-e731-d0a979c31e17",
        "colab": {
          "base_uri": "https://localhost:8080/",
          "height": 130
        }
      },
      "source": [
        "for i in range(2):\n",
        "print(\"i=\",i)"
      ],
      "execution_count": 0,
      "outputs": [
        {
          "output_type": "error",
          "ename": "IndentationError",
          "evalue": "ignored",
          "traceback": [
            "\u001b[0;36m  File \u001b[0;32m\"<ipython-input-6-18b2c7f6d3b5>\"\u001b[0;36m, line \u001b[0;32m2\u001b[0m\n\u001b[0;31m    print(\"i=\",i)\u001b[0m\n\u001b[0m        ^\u001b[0m\n\u001b[0;31mIndentationError\u001b[0m\u001b[0;31m:\u001b[0m expected an indented block\n"
          ]
        }
      ]
    },
    {
      "cell_type": "code",
      "metadata": {
        "id": "KrdPCEr6v6a0",
        "colab_type": "code",
        "outputId": "51f942d2-1396-413e-9296-0bbe5781b594",
        "colab": {
          "base_uri": "https://localhost:8080/",
          "height": 130
        }
      },
      "source": [
        "def foo():\n",
        "print(\"foo\")\n",
        "foo()"
      ],
      "execution_count": 0,
      "outputs": [
        {
          "output_type": "error",
          "ename": "IndentationError",
          "evalue": "ignored",
          "traceback": [
            "\u001b[0;36m  File \u001b[0;32m\"<ipython-input-7-9f121328178f>\"\u001b[0;36m, line \u001b[0;32m2\u001b[0m\n\u001b[0;31m    print(\"foo\")\u001b[0m\n\u001b[0m        ^\u001b[0m\n\u001b[0;31mIndentationError\u001b[0m\u001b[0;31m:\u001b[0m expected an indented block\n"
          ]
        }
      ]
    },
    {
      "cell_type": "code",
      "metadata": {
        "id": "Cb0AcSJU2CHm",
        "colab_type": "code",
        "outputId": "39919ea9-3f59-4fc3-bc2b-b9e990e56fe9",
        "colab": {
          "base_uri": "https://localhost:8080/",
          "height": 130
        }
      },
      "source": [
        "class foo(object):\n",
        "def bar():\n",
        "    print(\"baz\")\n",
        "f = foo\n",
        "f.bar()"
      ],
      "execution_count": 0,
      "outputs": [
        {
          "output_type": "error",
          "ename": "IndentationError",
          "evalue": "ignored",
          "traceback": [
            "\u001b[0;36m  File \u001b[0;32m\"<ipython-input-8-2ff02f2491c5>\"\u001b[0;36m, line \u001b[0;32m2\u001b[0m\n\u001b[0;31m    def bar():\u001b[0m\n\u001b[0m      ^\u001b[0m\n\u001b[0;31mIndentationError\u001b[0m\u001b[0;31m:\u001b[0m expected an indented block\n"
          ]
        }
      ]
    },
    {
      "cell_type": "markdown",
      "metadata": {
        "id": "WPKsKQ0kkMon",
        "colab_type": "text"
      },
      "source": [
        "# ■行の途中での改行\n",
        "以下のコードは間違えていませんが、 pep8 online で実行するとエラーが発生します。  \n",
        "これは pep8 の推奨ルールに違反しているからです。  \n",
        "pep8 で実行してもエラーが出力されないように修正してください。  \n",
        "[pep8 online](http://pep8online.com/)\n",
        "　　　"
      ]
    },
    {
      "cell_type": "code",
      "metadata": {
        "id": "WbAAvpOsqjCH",
        "colab_type": "code",
        "colab": {}
      },
      "source": [
        "def a(b,\n",
        "    c):\n",
        "    print(\"ok\")\n"
      ],
      "execution_count": 0,
      "outputs": []
    },
    {
      "cell_type": "code",
      "metadata": {
        "id": "xqKOdxNP6Kbc",
        "colab_type": "code",
        "colab": {}
      },
      "source": [
        "spam_arr = (\"abc\", \"def\",\n",
        "        \"ghi\", \"jkl\",\n",
        "            )\n"
      ],
      "execution_count": 0,
      "outputs": []
    },
    {
      "cell_type": "code",
      "metadata": {
        "id": "Qk6oVty26NNU",
        "colab_type": "code",
        "colab": {}
      },
      "source": [
        "spam_arr = {\"abc\", \"def\",\n",
        "        \"ghi\", \"jkl\",\n",
        "            }\n"
      ],
      "execution_count": 0,
      "outputs": []
    }
  ]
}