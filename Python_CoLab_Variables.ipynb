{
  "nbformat": 4,
  "nbformat_minor": 0,
  "metadata": {
    "colab": {
      "name": "Python_CoLab_Variables.ipynb のコピー",
      "version": "0.3.2",
      "provenance": [],
      "include_colab_link": true
    },
    "kernelspec": {
      "name": "python3",
      "display_name": "Python 3"
    }
  },
  "cells": [
    {
      "cell_type": "markdown",
      "metadata": {
        "id": "view-in-github",
        "colab_type": "text"
      },
      "source": [
        "<a href=\"https://colab.research.google.com/github/pgm-learning/umu/blob/master/Python_CoLab_Variables.ipynb\" target=\"_parent\"><img src=\"https://colab.research.google.com/assets/colab-badge.svg\" alt=\"Open In Colab\"/></a>"
      ]
    },
    {
      "cell_type": "code",
      "metadata": {
        "id": "MmnB0JiOEZBz",
        "colab_type": "code",
        "colab": {}
      },
      "source": [
        ""
      ],
      "execution_count": 0,
      "outputs": []
    },
    {
      "cell_type": "markdown",
      "metadata": {
        "id": "TDYC6A4xMwTW",
        "colab_type": "text"
      },
      "source": [
        "# ■ 変数とは\n",
        "　phthonに限らず、プログラミング言語は変数というものが存在します。\n",
        " 　変数は「何かを格納する箱」です。  \n",
        "  　何かとは大抵は文字や数字などの「値」の事を指しますが、値以外にも「クラス」「関数」「配列」なども格納することができます。  \n",
        "   　※クラスや関数や配列は後ほど説明します。今は覚えなくて大丈夫です。\n",
        "    \n",
        " <img src=\"https://1.bp.blogspot.com/-S6GY-o73FYk/UgsvAaFo8vI/AAAAAAAAXNs/0_jenbN5wYs/s800/cardboard_open.png\" width=\"150\">\n",
        " "
      ]
    },
    {
      "cell_type": "markdown",
      "metadata": {
        "id": "oi3mAPFXMlhg",
        "colab_type": "text"
      },
      "source": [
        "# ■ 変数を代入\n"
      ]
    },
    {
      "cell_type": "code",
      "metadata": {
        "id": "tGm7sIQ9OeMG",
        "colab_type": "code",
        "colab": {}
      },
      "source": [
        "spam = 1"
      ],
      "execution_count": 0,
      "outputs": []
    },
    {
      "cell_type": "code",
      "metadata": {
        "id": "PNzWC_YIO17f",
        "colab_type": "code",
        "colab": {}
      },
      "source": [
        ""
      ],
      "execution_count": 0,
      "outputs": []
    }
  ]
}