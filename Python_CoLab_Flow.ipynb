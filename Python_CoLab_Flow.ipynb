{
  "nbformat": 4,
  "nbformat_minor": 0,
  "metadata": {
    "colab": {
      "name": "Python_CoLab_Flow.ipynb",
      "version": "0.3.2",
      "provenance": [],
      "collapsed_sections": [],
      "include_colab_link": true
    },
    "kernelspec": {
      "name": "python3",
      "display_name": "Python 3"
    }
  },
  "cells": [
    {
      "cell_type": "markdown",
      "metadata": {
        "id": "view-in-github",
        "colab_type": "text"
      },
      "source": [
        "<a href=\"https://colab.research.google.com/github/pgm-learning/umu/blob/master/Python_CoLab_Flow.ipynb\" target=\"_parent\"><img src=\"https://colab.research.google.com/assets/colab-badge.svg\" alt=\"Open In Colab\"/></a>"
      ]
    },
    {
      "cell_type": "markdown",
      "metadata": {
        "id": "hjcNS8ojqrHa",
        "colab_type": "text"
      },
      "source": [
        "# ■ プログラムの流れ\n",
        "Pythonに限らず、プログラムを書けるようになるには、まず、読めることが重要です。\n",
        "ここでは処理の流れを追うやり方を説明します。\n"
      ]
    },
    {
      "cell_type": "markdown",
      "metadata": {
        "id": "o6nzX6HX7x15",
        "colab_type": "text"
      },
      "source": [
        "## 処理の流れを追ってみましょう\n",
        "　プログラム文は一行ずつ実行されていきます。  \n",
        "　しかし、上から下までが順番に実行されるとは限りません。  \n",
        "　ここでは、プログラムがどのような順番で実行されていくかを見てみましょう。\n",
        "　以下のプログラムを全部実行してみてください。"
      ]
    },
    {
      "cell_type": "code",
      "metadata": {
        "id": "kT12id8Qq3tV",
        "colab_type": "code",
        "colab": {}
      },
      "source": [
        "# パターン 1\n",
        "hoge = 1 + 1\n",
        "hogehoge = hoge + 1"
      ],
      "execution_count": 0,
      "outputs": []
    },
    {
      "cell_type": "code",
      "metadata": {
        "id": "nYrftE8OrBJk",
        "colab_type": "code",
        "colab": {}
      },
      "source": [
        "# パターン 2\n",
        "piyo = 1 + 1\n",
        "piyopiyo = 0\n",
        "if piyo == 1:\n",
        "    piyopiyo += piyo\n",
        "elif piyo == 2:\n",
        "    piyopiyo += piyo + piyo\n",
        "else:\n",
        "    pass"
      ],
      "execution_count": 0,
      "outputs": []
    },
    {
      "cell_type": "code",
      "metadata": {
        "id": "UxjSTM8Ly9pl",
        "colab_type": "code",
        "colab": {}
      },
      "source": [
        "# パターン 3\n",
        "fuga = 0\n",
        "for i in range(5):\n",
        "    fuga += 1"
      ],
      "execution_count": 0,
      "outputs": []
    },
    {
      "cell_type": "code",
      "metadata": {
        "id": "wz1dePA6y9sg",
        "colab_type": "code",
        "colab": {}
      },
      "source": [
        "# パターン 4\n",
        "def spam():\n",
        "    pass\n",
        "\n",
        "spam()"
      ],
      "execution_count": 0,
      "outputs": []
    },
    {
      "cell_type": "code",
      "metadata": {
        "id": "TL8cKE6Dy9vP",
        "colab_type": "code",
        "colab": {}
      },
      "source": [
        "# パターン 5\n",
        "class foo(object):\n",
        "    def __init__(self, bar):\n",
        "        self.bar = bar\n",
        "\n",
        "    def run(self):\n",
        "        baz = self.bar\n",
        "f = foo(\"2\")\n",
        "f.run()"
      ],
      "execution_count": 0,
      "outputs": []
    },
    {
      "cell_type": "code",
      "metadata": {
        "id": "2Nc822Kty91p",
        "colab_type": "code",
        "colab": {}
      },
      "source": [
        "# パターン 6\n",
        "class foo(object):\n",
        "    def __init__(self, hoge):\n",
        "        self.hoge = hoge\n",
        "    def bar(self):\n",
        "        self.hoge = 1\n",
        "    @bar\n",
        "    def baz(self):\n",
        "      self.hoge += 1\n",
        "\n",
        "f = foo\n",
        "f.baz"
      ],
      "execution_count": 0,
      "outputs": []
    },
    {
      "cell_type": "code",
      "metadata": {
        "id": "GgqJ_yfM-Y2h",
        "colab_type": "code",
        "colab": {}
      },
      "source": [
        "# パターン 7\n",
        "from abc import ABCMeta, abstractmethod\n",
        "class foo(object):\n",
        "    def __init__(self, hoge):\n",
        "        self.hoge = 1\n",
        "    def spam(self):\n",
        "        pass\n",
        "    def eggs(self):\n",
        "        pass\n",
        "\n",
        "class concretefoo(foo):\n",
        "    def __init__(self):\n",
        "        super(concretefoo, self).__init__(hoge)\n",
        "        self.fuga = 1\n",
        "    def spam(self):\n",
        "        self.fuga = 2\n",
        "    def eggs(self):\n",
        "        pass\n",
        "f = foo\n",
        "f.spam(a)"
      ],
      "execution_count": 0,
      "outputs": []
    },
    {
      "cell_type": "markdown",
      "metadata": {
        "id": "zA0u6rMx9EEC",
        "colab_type": "text"
      },
      "source": [
        "　　どの順番に実行されたか分かりましたか？\n",
        "　　さっぱり分かりませんね。  \n",
        "　　この状態だと順番を分かっている人しか読めません。\n",
        "  \n",
        "　　それでは今度は以下を実行してみてください。\n",
        "  "
      ]
    },
    {
      "cell_type": "code",
      "metadata": {
        "id": "RkC4savQz3cx",
        "colab_type": "code",
        "colab": {}
      },
      "source": [
        "# パターン 1\n",
        "hoge = 1 + 1\n",
        "hogehoge = hoge + 1"
      ],
      "execution_count": 0,
      "outputs": []
    },
    {
      "cell_type": "code",
      "metadata": {
        "id": "DSPxqnNO90sa",
        "colab_type": "code",
        "colab": {}
      },
      "source": [
        "# パターン 2\n",
        "piyo = 1 + 1\n",
        "piyopiyo = 0\n",
        "if piyo == 1:\n",
        "    piyopiyo += piyo\n",
        "elif piyo == 2:\n",
        "    piyopiyo += piyo + piyo\n",
        "else:\n",
        "    pass"
      ],
      "execution_count": 0,
      "outputs": []
    },
    {
      "cell_type": "code",
      "metadata": {
        "id": "vQ30sZor90u6",
        "colab_type": "code",
        "colab": {}
      },
      "source": [
        "# パターン 3\n",
        "fuga = 0\n",
        "for i in range(5):\n",
        "    fuga += 1"
      ],
      "execution_count": 0,
      "outputs": []
    },
    {
      "cell_type": "code",
      "metadata": {
        "id": "YQETNWtd90xU",
        "colab_type": "code",
        "colab": {}
      },
      "source": [
        "# パターン 4\n",
        "def spam():\n",
        "    pass\n",
        "\n",
        "spam()"
      ],
      "execution_count": 0,
      "outputs": []
    },
    {
      "cell_type": "code",
      "metadata": {
        "id": "6ZGP_Uy3900G",
        "colab_type": "code",
        "colab": {}
      },
      "source": [
        "# パターン 5\n",
        "class foo(object):\n",
        "    def __init__(self, bar):\n",
        "        self.bar = bar\n",
        "\n",
        "    def run(self):\n",
        "        baz = self.bar\n",
        "f = foo(\"2\")\n",
        "f.run()"
      ],
      "execution_count": 0,
      "outputs": []
    },
    {
      "cell_type": "code",
      "metadata": {
        "id": "5DjoXwQ-908Q",
        "colab_type": "code",
        "colab": {}
      },
      "source": [
        "# パターン 6\n",
        "class foo(object):\n",
        "    def __init__(self, hoge):\n",
        "        self.hoge = hoge\n",
        "    def bar(self):\n",
        "        self.hoge = 1\n",
        "    @bar\n",
        "    def baz(self):\n",
        "      self.hoge += 1\n",
        "\n",
        "f = foo\n",
        "f.baz"
      ],
      "execution_count": 0,
      "outputs": []
    },
    {
      "cell_type": "code",
      "metadata": {
        "id": "vQggBg2C90_g",
        "colab_type": "code",
        "colab": {}
      },
      "source": [
        "# パターン 7\n",
        "from abc import ABCMeta, abstractmethod\n",
        "class foo(object):\n",
        "    def __init__(self, hoge):\n",
        "        self.hoge = 1\n",
        "    def spam(self):\n",
        "        pass\n",
        "    def eggs(self):\n",
        "        pass\n",
        "\n",
        "class concretefoo(foo):\n",
        "    def __init__(self):\n",
        "        super(concretefoo, self).__init__(hoge)\n",
        "        self.fuga = 1\n",
        "    def spam(self):\n",
        "        self.fuga = 2\n",
        "    def eggs(self):\n",
        "        pass\n",
        "f = foo\n",
        "f.spam(a)"
      ],
      "execution_count": 0,
      "outputs": []
    }
  ]
}