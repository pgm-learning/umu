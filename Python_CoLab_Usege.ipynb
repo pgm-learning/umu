{
  "nbformat": 4,
  "nbformat_minor": 0,
  "metadata": {
    "colab": {
      "name": "Python_CoLab_Usege.ipynb",
      "version": "0.3.2",
      "provenance": [],
      "collapsed_sections": [],
      "include_colab_link": true
    },
    "kernelspec": {
      "name": "python3",
      "display_name": "Python 3"
    }
  },
  "cells": [
    {
      "cell_type": "markdown",
      "metadata": {
        "id": "view-in-github",
        "colab_type": "text"
      },
      "source": [
        "<a href=\"https://colab.research.google.com/github/pgm-learning/umu/blob/master/Python_CoLab_Usege.ipynb\" target=\"_parent\"><img src=\"https://colab.research.google.com/assets/colab-badge.svg\" alt=\"Open In Colab\"/></a>"
      ]
    },
    {
      "cell_type": "markdown",
      "metadata": {
        "id": "CUZaQVHhRZ3D",
        "colab_type": "text"
      },
      "source": [
        "# Colaboratory の使い方\n",
        "## ■はじめに\n",
        "\n",
        "ご覧になっているドキュメントは、Colaboratory でホストされている [Jupyter ノートブック](https://jupyter.org)です。静的なページではなく、Python やその他の言語でコードを記述して実行できるインタラクティブな環境です。\n",
        "\n",
        "たとえば次の**コードセル**には、値を計算して変数に格納し、結果を出力する短い Python スクリプトが含まれています。\n"
      ]
    },
    {
      "cell_type": "code",
      "metadata": {
        "id": "Xyxta952RZbc",
        "colab_type": "code",
        "colab": {}
      },
      "source": [
        "seconds_in_a_day = 24 * 60 * 60\n",
        "seconds_in_a_day"
      ],
      "execution_count": 0,
      "outputs": []
    },
    {
      "cell_type": "markdown",
      "metadata": {
        "id": "9LdOUL09VfSD",
        "colab_type": "text"
      },
      "source": [
        "上記セルのコードを実行するには、セルをクリックして選択し、コードの左側にある<font color=\"fuchsia\">**▷ボタン**</font>をクリックするか、キーボード ショートカットを使用します。<br>\n",
        " 　キーボードショートカット<br>\n",
        "<font color=\"fuchsia\">\n",
        "　・**Windowsの場合：shift + Enter   または Ctrl + Enter**<br>\n",
        "　・**Macの場合：⌘**<br>\n",
        "</font>"
      ]
    },
    {
      "cell_type": "markdown",
      "metadata": {
        "id": "Ds2ZtNtOR2CK",
        "colab_type": "text"
      },
      "source": [
        "# 　　　ここをクリックしてください！<br>\n",
        "\n",
        "　　　　　　\n",
        "      クリックしたら、キーボードショートカットを使い、実行してください。"
      ]
    },
    {
      "cell_type": "markdown",
      "metadata": {
        "id": "9BfWbyGVnXwp",
        "colab_type": "text"
      },
      "source": [
        "上記のようにテキストセルも実行することで結果を反映することができます。\n",
        "テキストセルはJupyter形式のマークダウン言語で装飾できます。<br>\n",
        "やり方は[こちら](https://qiita.com/tbpgr/items/989c6badefff69377da7)に詳しいサイトがありました\n",
        "\n",
        "図も追加できます。2種類の追加方法があります。どちらも同じです。<br>\n",
        "DD　　　   コマンドで追加したもの　⇒     ![DD](https://www.python.org/static/community_logos/python-logo.png)<br>\n",
        "COMMENTコマンドで追加したもの　⇒     ![COMMENT](https://www.python.org/static/community_logos/python-logo.png)\n",
        "\n"
      ]
    },
    {
      "cell_type": "markdown",
      "metadata": {
        "id": "0vcgR9eJwcl4",
        "colab_type": "text"
      },
      "source": [
        "## ■Colaboratoryで使える計算機資源\n",
        "　　CPU: Intel(R) Xeon(R) CPU @ 2.20GHz (!cat /proc/cpuinfoで確認)<br>\n",
        "　　Memory: 13GB (!free -mで確認)<br>\n",
        "　　Storage: 46GB (!df -hで確認)<br>\n",
        "\n",
        "## ■Colaboratoryの使用制限\n",
        "　　<font color=\"fuchsia\">ここは重要です</font><br>\n",
        "  　　Colaboratoryは無料で提供されているため、一時利用のみという制限があります。<br>\n",
        "　　・ページを開いてから使用していない時間が90分になった時点でページは削除される<br>\n",
        "　　・連続使用時間が12時間になった時点でページは削除される<br>\n",
        "  \n",
        " 　　もし、ページを保存しておきたければグーグルドライブに保存しておいてください。\n",
        "\n",
        "　　・保存手順<br>\n",
        "    ![DD](https://cdn-ak.f.st-hatena.com/images/fotolife/t/tadaken3/20180308/20180308184545.jpg)\n",
        "    "
      ]
    },
    {
      "cell_type": "code",
      "metadata": {
        "id": "9LPcFkfw37lE",
        "colab_type": "code",
        "colab": {}
      },
      "source": [
        ""
      ],
      "execution_count": 0,
      "outputs": []
    }
  ]
}